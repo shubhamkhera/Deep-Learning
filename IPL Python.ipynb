{
 "cells": [
  {
   "cell_type": "code",
   "execution_count": 1,
   "id": "92931300",
   "metadata": {},
   "outputs": [],
   "source": [
    "import pandas as pd\n",
    "import numpy as np\n",
    "import matplotlib.pyplot as plt\n",
    "import seaborn as sns\n",
    "import re"
   ]
  },
  {
   "cell_type": "code",
   "execution_count": 2,
   "id": "461d0a98",
   "metadata": {},
   "outputs": [],
   "source": [
    "df_ipl = pd.read_csv(\"IPL_data.csv\")"
   ]
  },
  {
   "cell_type": "code",
   "execution_count": 3,
   "id": "b866988c",
   "metadata": {},
   "outputs": [
    {
     "data": {
      "text/html": [
       "<div>\n",
       "<style scoped>\n",
       "    .dataframe tbody tr th:only-of-type {\n",
       "        vertical-align: middle;\n",
       "    }\n",
       "\n",
       "    .dataframe tbody tr th {\n",
       "        vertical-align: top;\n",
       "    }\n",
       "\n",
       "    .dataframe thead th {\n",
       "        text-align: right;\n",
       "    }\n",
       "</style>\n",
       "<table border=\"1\" class=\"dataframe\">\n",
       "  <thead>\n",
       "    <tr style=\"text-align: right;\">\n",
       "      <th></th>\n",
       "      <th>Sl.NO.</th>\n",
       "      <th>PLAYER NAME</th>\n",
       "      <th>AGE</th>\n",
       "      <th>COUNTRY</th>\n",
       "      <th>TEAM</th>\n",
       "      <th>PLAYING ROLE</th>\n",
       "      <th>T-RUNS</th>\n",
       "      <th>T-WKTS</th>\n",
       "      <th>ODI-RUNS-S</th>\n",
       "      <th>ODI-SR-B</th>\n",
       "      <th>...</th>\n",
       "      <th>SR-B</th>\n",
       "      <th>SIXERS</th>\n",
       "      <th>RUNS-C</th>\n",
       "      <th>WKTS</th>\n",
       "      <th>AVE-BL</th>\n",
       "      <th>ECON</th>\n",
       "      <th>SR-BL</th>\n",
       "      <th>AUCTION YEAR</th>\n",
       "      <th>BASE PRICE</th>\n",
       "      <th>SOLD PRICE</th>\n",
       "    </tr>\n",
       "  </thead>\n",
       "  <tbody>\n",
       "    <tr>\n",
       "      <th>0</th>\n",
       "      <td>1</td>\n",
       "      <td>Abdulla, YA</td>\n",
       "      <td>2</td>\n",
       "      <td>SA</td>\n",
       "      <td>KXIP</td>\n",
       "      <td>Allrounder</td>\n",
       "      <td>0</td>\n",
       "      <td>0</td>\n",
       "      <td>0</td>\n",
       "      <td>0.00</td>\n",
       "      <td>...</td>\n",
       "      <td>0.00</td>\n",
       "      <td>0</td>\n",
       "      <td>307</td>\n",
       "      <td>15</td>\n",
       "      <td>20.47</td>\n",
       "      <td>8.90</td>\n",
       "      <td>13.93</td>\n",
       "      <td>2009</td>\n",
       "      <td>50000</td>\n",
       "      <td>50000</td>\n",
       "    </tr>\n",
       "    <tr>\n",
       "      <th>1</th>\n",
       "      <td>2</td>\n",
       "      <td>Abdur Razzak</td>\n",
       "      <td>2</td>\n",
       "      <td>BAN</td>\n",
       "      <td>RCB</td>\n",
       "      <td>Bowler</td>\n",
       "      <td>214</td>\n",
       "      <td>18</td>\n",
       "      <td>657</td>\n",
       "      <td>71.41</td>\n",
       "      <td>...</td>\n",
       "      <td>0.00</td>\n",
       "      <td>0</td>\n",
       "      <td>29</td>\n",
       "      <td>0</td>\n",
       "      <td>0.00</td>\n",
       "      <td>14.50</td>\n",
       "      <td>0.00</td>\n",
       "      <td>2008</td>\n",
       "      <td>50000</td>\n",
       "      <td>50000</td>\n",
       "    </tr>\n",
       "    <tr>\n",
       "      <th>2</th>\n",
       "      <td>3</td>\n",
       "      <td>Agarkar, AB</td>\n",
       "      <td>2</td>\n",
       "      <td>IND</td>\n",
       "      <td>KKR</td>\n",
       "      <td>Bowler</td>\n",
       "      <td>571</td>\n",
       "      <td>58</td>\n",
       "      <td>1269</td>\n",
       "      <td>80.62</td>\n",
       "      <td>...</td>\n",
       "      <td>121.01</td>\n",
       "      <td>5</td>\n",
       "      <td>1059</td>\n",
       "      <td>29</td>\n",
       "      <td>36.52</td>\n",
       "      <td>8.81</td>\n",
       "      <td>24.90</td>\n",
       "      <td>2008</td>\n",
       "      <td>200000</td>\n",
       "      <td>350000</td>\n",
       "    </tr>\n",
       "    <tr>\n",
       "      <th>3</th>\n",
       "      <td>4</td>\n",
       "      <td>Ashwin, R</td>\n",
       "      <td>1</td>\n",
       "      <td>IND</td>\n",
       "      <td>CSK</td>\n",
       "      <td>Bowler</td>\n",
       "      <td>284</td>\n",
       "      <td>31</td>\n",
       "      <td>241</td>\n",
       "      <td>84.56</td>\n",
       "      <td>...</td>\n",
       "      <td>76.32</td>\n",
       "      <td>0</td>\n",
       "      <td>1125</td>\n",
       "      <td>49</td>\n",
       "      <td>22.96</td>\n",
       "      <td>6.23</td>\n",
       "      <td>22.14</td>\n",
       "      <td>2011</td>\n",
       "      <td>100000</td>\n",
       "      <td>850000</td>\n",
       "    </tr>\n",
       "    <tr>\n",
       "      <th>4</th>\n",
       "      <td>5</td>\n",
       "      <td>Badrinath, S</td>\n",
       "      <td>2</td>\n",
       "      <td>IND</td>\n",
       "      <td>CSK</td>\n",
       "      <td>Batsman</td>\n",
       "      <td>63</td>\n",
       "      <td>0</td>\n",
       "      <td>79</td>\n",
       "      <td>45.93</td>\n",
       "      <td>...</td>\n",
       "      <td>120.71</td>\n",
       "      <td>28</td>\n",
       "      <td>0</td>\n",
       "      <td>0</td>\n",
       "      <td>0.00</td>\n",
       "      <td>0.00</td>\n",
       "      <td>0.00</td>\n",
       "      <td>2011</td>\n",
       "      <td>100000</td>\n",
       "      <td>800000</td>\n",
       "    </tr>\n",
       "    <tr>\n",
       "      <th>5</th>\n",
       "      <td>6</td>\n",
       "      <td>Bailey, GJ</td>\n",
       "      <td>2</td>\n",
       "      <td>AUS</td>\n",
       "      <td>CSK</td>\n",
       "      <td>Batsman</td>\n",
       "      <td>0</td>\n",
       "      <td>0</td>\n",
       "      <td>172</td>\n",
       "      <td>72.26</td>\n",
       "      <td>...</td>\n",
       "      <td>95.45</td>\n",
       "      <td>0</td>\n",
       "      <td>0</td>\n",
       "      <td>0</td>\n",
       "      <td>0.00</td>\n",
       "      <td>0.00</td>\n",
       "      <td>0.00</td>\n",
       "      <td>2009</td>\n",
       "      <td>50000</td>\n",
       "      <td>50000</td>\n",
       "    </tr>\n",
       "    <tr>\n",
       "      <th>6</th>\n",
       "      <td>7</td>\n",
       "      <td>Balaji, L</td>\n",
       "      <td>2</td>\n",
       "      <td>IND</td>\n",
       "      <td>CSK+</td>\n",
       "      <td>Bowler</td>\n",
       "      <td>51</td>\n",
       "      <td>27</td>\n",
       "      <td>120</td>\n",
       "      <td>78.94</td>\n",
       "      <td>...</td>\n",
       "      <td>72.22</td>\n",
       "      <td>1</td>\n",
       "      <td>1342</td>\n",
       "      <td>52</td>\n",
       "      <td>25.81</td>\n",
       "      <td>7.98</td>\n",
       "      <td>19.40</td>\n",
       "      <td>2011</td>\n",
       "      <td>100000</td>\n",
       "      <td>500000</td>\n",
       "    </tr>\n",
       "    <tr>\n",
       "      <th>7</th>\n",
       "      <td>8</td>\n",
       "      <td>Bollinger, DE</td>\n",
       "      <td>2</td>\n",
       "      <td>AUS</td>\n",
       "      <td>CSK</td>\n",
       "      <td>Bowler</td>\n",
       "      <td>54</td>\n",
       "      <td>50</td>\n",
       "      <td>50</td>\n",
       "      <td>92.59</td>\n",
       "      <td>...</td>\n",
       "      <td>165.88</td>\n",
       "      <td>1</td>\n",
       "      <td>693</td>\n",
       "      <td>37</td>\n",
       "      <td>18.73</td>\n",
       "      <td>7.22</td>\n",
       "      <td>15.57</td>\n",
       "      <td>2011</td>\n",
       "      <td>200000</td>\n",
       "      <td>700000</td>\n",
       "    </tr>\n",
       "    <tr>\n",
       "      <th>8</th>\n",
       "      <td>9</td>\n",
       "      <td>Botha, J</td>\n",
       "      <td>2</td>\n",
       "      <td>SA</td>\n",
       "      <td>RR</td>\n",
       "      <td>Allrounder</td>\n",
       "      <td>83</td>\n",
       "      <td>17</td>\n",
       "      <td>609</td>\n",
       "      <td>85.77</td>\n",
       "      <td>...</td>\n",
       "      <td>114.73</td>\n",
       "      <td>3</td>\n",
       "      <td>610</td>\n",
       "      <td>19</td>\n",
       "      <td>32.11</td>\n",
       "      <td>6.85</td>\n",
       "      <td>28.11</td>\n",
       "      <td>2011</td>\n",
       "      <td>200000</td>\n",
       "      <td>950000</td>\n",
       "    </tr>\n",
       "    <tr>\n",
       "      <th>9</th>\n",
       "      <td>10</td>\n",
       "      <td>Boucher, MV</td>\n",
       "      <td>2</td>\n",
       "      <td>SA</td>\n",
       "      <td>RCB+</td>\n",
       "      <td>W. Keeper</td>\n",
       "      <td>5515</td>\n",
       "      <td>1</td>\n",
       "      <td>4686</td>\n",
       "      <td>84.76</td>\n",
       "      <td>...</td>\n",
       "      <td>127.51</td>\n",
       "      <td>13</td>\n",
       "      <td>0</td>\n",
       "      <td>0</td>\n",
       "      <td>0.00</td>\n",
       "      <td>0.00</td>\n",
       "      <td>0.00</td>\n",
       "      <td>2008</td>\n",
       "      <td>200000</td>\n",
       "      <td>450000</td>\n",
       "    </tr>\n",
       "  </tbody>\n",
       "</table>\n",
       "<p>10 rows × 26 columns</p>\n",
       "</div>"
      ],
      "text/plain": [
       "   Sl.NO.    PLAYER NAME  AGE COUNTRY  TEAM PLAYING ROLE  T-RUNS  T-WKTS  \\\n",
       "0       1    Abdulla, YA    2      SA  KXIP   Allrounder       0       0   \n",
       "1       2   Abdur Razzak    2     BAN   RCB       Bowler     214      18   \n",
       "2       3    Agarkar, AB    2     IND   KKR       Bowler     571      58   \n",
       "3       4      Ashwin, R    1     IND   CSK       Bowler     284      31   \n",
       "4       5   Badrinath, S    2     IND   CSK      Batsman      63       0   \n",
       "5       6     Bailey, GJ    2     AUS   CSK      Batsman       0       0   \n",
       "6       7      Balaji, L    2     IND  CSK+       Bowler      51      27   \n",
       "7       8  Bollinger, DE    2     AUS   CSK       Bowler      54      50   \n",
       "8       9       Botha, J    2      SA    RR   Allrounder      83      17   \n",
       "9      10    Boucher, MV    2      SA  RCB+    W. Keeper    5515       1   \n",
       "\n",
       "   ODI-RUNS-S  ODI-SR-B  ...    SR-B  SIXERS  RUNS-C  WKTS  AVE-BL   ECON  \\\n",
       "0           0      0.00  ...    0.00       0     307    15   20.47   8.90   \n",
       "1         657     71.41  ...    0.00       0      29     0    0.00  14.50   \n",
       "2        1269     80.62  ...  121.01       5    1059    29   36.52   8.81   \n",
       "3         241     84.56  ...   76.32       0    1125    49   22.96   6.23   \n",
       "4          79     45.93  ...  120.71      28       0     0    0.00   0.00   \n",
       "5         172     72.26  ...   95.45       0       0     0    0.00   0.00   \n",
       "6         120     78.94  ...   72.22       1    1342    52   25.81   7.98   \n",
       "7          50     92.59  ...  165.88       1     693    37   18.73   7.22   \n",
       "8         609     85.77  ...  114.73       3     610    19   32.11   6.85   \n",
       "9        4686     84.76  ...  127.51      13       0     0    0.00   0.00   \n",
       "\n",
       "   SR-BL  AUCTION YEAR  BASE PRICE  SOLD PRICE  \n",
       "0  13.93          2009       50000       50000  \n",
       "1   0.00          2008       50000       50000  \n",
       "2  24.90          2008      200000      350000  \n",
       "3  22.14          2011      100000      850000  \n",
       "4   0.00          2011      100000      800000  \n",
       "5   0.00          2009       50000       50000  \n",
       "6  19.40          2011      100000      500000  \n",
       "7  15.57          2011      200000      700000  \n",
       "8  28.11          2011      200000      950000  \n",
       "9   0.00          2008      200000      450000  \n",
       "\n",
       "[10 rows x 26 columns]"
      ]
     },
     "execution_count": 3,
     "metadata": {},
     "output_type": "execute_result"
    }
   ],
   "source": [
    "df_ipl.head(10)"
   ]
  },
  {
   "cell_type": "code",
   "execution_count": 4,
   "id": "eb941c0c",
   "metadata": {},
   "outputs": [],
   "source": [
    "df_ipl[\"TEAM\"] = df_ipl[\"TEAM\"].replace([\"CSK+\", \"RCB+\", 'DC+', 'RR+', 'KXIP+', 'KXI+', 'MI+', 'KKR+'], [\"CSK\", \"RCB\", 'DC', 'RR', 'KXIP', 'KXI', 'MI', 'KKR'])"
   ]
  },
  {
   "cell_type": "code",
   "execution_count": 5,
   "id": "79110919",
   "metadata": {},
   "outputs": [
    {
     "data": {
      "text/plain": [
       "array(['KXIP', 'RCB', 'KKR', 'CSK', 'RR', 'MI', 'DD+', 'DC', 'KXI', 'DD'],\n",
       "      dtype=object)"
      ]
     },
     "execution_count": 5,
     "metadata": {},
     "output_type": "execute_result"
    }
   ],
   "source": [
    "df_ipl[\"TEAM\"].unique()"
   ]
  },
  {
   "cell_type": "code",
   "execution_count": 8,
   "id": "2596f281",
   "metadata": {},
   "outputs": [
    {
     "data": {
      "text/plain": [
       "Index(['PLAYER NAME', 'AGE', 'COUNTRY', 'TEAM', 'PLAYING ROLE', 'T-RUNS',\n",
       "       'T-WKTS', 'ODI-RUNS-S', 'ODI-SR-B', 'ODI-WKTS', 'ODI-SR-BL',\n",
       "       'CAPTAINCY EXP', 'RUNS-S', 'HS', 'AVE', 'SR-B', 'SIXERS', 'RUNS-C',\n",
       "       'WKTS', 'AVE-BL', 'ECON', 'SR-BL', 'AUCTION YEAR', 'BASE PRICE',\n",
       "       'SOLD PRICE'],\n",
       "      dtype='object')"
      ]
     },
     "execution_count": 8,
     "metadata": {},
     "output_type": "execute_result"
    }
   ],
   "source": [
    "df_ipl.columns"
   ]
  },
  {
   "cell_type": "code",
   "execution_count": 7,
   "id": "528f9794",
   "metadata": {},
   "outputs": [],
   "source": [
    "df_ipl.drop(\"Sl.NO.\", inplace=True, axis=1)"
   ]
  },
  {
   "cell_type": "code",
   "execution_count": 9,
   "id": "2435c50f",
   "metadata": {},
   "outputs": [
    {
     "name": "stdout",
     "output_type": "stream",
     "text": [
      "<class 'pandas.core.frame.DataFrame'>\n",
      "RangeIndex: 130 entries, 0 to 129\n",
      "Data columns (total 25 columns):\n",
      " #   Column         Non-Null Count  Dtype  \n",
      "---  ------         --------------  -----  \n",
      " 0   PLAYER NAME    130 non-null    object \n",
      " 1   AGE            130 non-null    int64  \n",
      " 2   COUNTRY        130 non-null    object \n",
      " 3   TEAM           130 non-null    object \n",
      " 4   PLAYING ROLE   130 non-null    object \n",
      " 5   T-RUNS         130 non-null    int64  \n",
      " 6   T-WKTS         130 non-null    int64  \n",
      " 7   ODI-RUNS-S     130 non-null    int64  \n",
      " 8   ODI-SR-B       130 non-null    float64\n",
      " 9   ODI-WKTS       130 non-null    int64  \n",
      " 10  ODI-SR-BL      130 non-null    float64\n",
      " 11  CAPTAINCY EXP  130 non-null    int64  \n",
      " 12  RUNS-S         130 non-null    int64  \n",
      " 13  HS             130 non-null    int64  \n",
      " 14  AVE            130 non-null    float64\n",
      " 15  SR-B           130 non-null    float64\n",
      " 16  SIXERS         130 non-null    int64  \n",
      " 17  RUNS-C         130 non-null    int64  \n",
      " 18  WKTS           130 non-null    int64  \n",
      " 19  AVE-BL         130 non-null    float64\n",
      " 20  ECON           130 non-null    float64\n",
      " 21  SR-BL          130 non-null    float64\n",
      " 22  AUCTION YEAR   130 non-null    int64  \n",
      " 23  BASE PRICE     130 non-null    int64  \n",
      " 24  SOLD PRICE     130 non-null    int64  \n",
      "dtypes: float64(7), int64(14), object(4)\n",
      "memory usage: 25.5+ KB\n"
     ]
    }
   ],
   "source": [
    "df_ipl.info()"
   ]
  },
  {
   "cell_type": "code",
   "execution_count": 10,
   "id": "db51d1d2",
   "metadata": {},
   "outputs": [
    {
     "data": {
      "text/plain": [
       "0"
      ]
     },
     "execution_count": 10,
     "metadata": {},
     "output_type": "execute_result"
    }
   ],
   "source": [
    "df_ipl.duplicated().sum()"
   ]
  },
  {
   "cell_type": "code",
   "execution_count": 12,
   "id": "c7057c89",
   "metadata": {},
   "outputs": [
    {
     "data": {
      "text/plain": [
       "PLAYER NAME      0\n",
       "AGE              0\n",
       "COUNTRY          0\n",
       "TEAM             0\n",
       "PLAYING ROLE     0\n",
       "T-RUNS           0\n",
       "T-WKTS           0\n",
       "ODI-RUNS-S       0\n",
       "ODI-SR-B         0\n",
       "ODI-WKTS         0\n",
       "ODI-SR-BL        0\n",
       "CAPTAINCY EXP    0\n",
       "RUNS-S           0\n",
       "HS               0\n",
       "AVE              0\n",
       "SR-B             0\n",
       "SIXERS           0\n",
       "RUNS-C           0\n",
       "WKTS             0\n",
       "AVE-BL           0\n",
       "ECON             0\n",
       "SR-BL            0\n",
       "AUCTION YEAR     0\n",
       "BASE PRICE       0\n",
       "SOLD PRICE       0\n",
       "dtype: int64"
      ]
     },
     "execution_count": 12,
     "metadata": {},
     "output_type": "execute_result"
    }
   ],
   "source": [
    "df_ipl.isnull().sum()"
   ]
  },
  {
   "cell_type": "code",
   "execution_count": 40,
   "id": "0ddec14b",
   "metadata": {},
   "outputs": [
    {
     "data": {
      "text/plain": [
       "array(['Allrounder', 'Bowler', 'Batsman', 'W. Keeper'], dtype=object)"
      ]
     },
     "execution_count": 40,
     "metadata": {},
     "output_type": "execute_result"
    }
   ],
   "source": [
    "df_ipl[\"PLAYING ROLE\"].unique()"
   ]
  },
  {
   "cell_type": "code",
   "execution_count": 41,
   "id": "f96a827f",
   "metadata": {},
   "outputs": [],
   "source": [
    "df_Bat = df_ipl.where(df_ipl[\"PLAYING ROLE\"]== \"Batsman\")\n",
    "df_All = df_ipl.where(df_ipl[\"PLAYING ROLE\"]== \"Allrounder\")\n",
    "df_Bow = df_ipl.where(df_ipl[\"PLAYING ROLE\"]== \"Bowler\")\n",
    "df_Wkt = df_ipl.where(df_ipl[\"PLAYING ROLE\"]== \"W. Keeper\")"
   ]
  },
  {
   "cell_type": "code",
   "execution_count": 42,
   "id": "27d28fcc",
   "metadata": {},
   "outputs": [],
   "source": [
    "df_Bat.dropna(inplace=True)\n",
    "df_All.dropna(inplace=True)\n",
    "df_Bow.dropna(inplace=True)\n",
    "df_Wkt.dropna(inplace=True)"
   ]
  },
  {
   "cell_type": "code",
   "execution_count": null,
   "id": "bab501b7",
   "metadata": {},
   "outputs": [],
   "source": []
  },
  {
   "cell_type": "code",
   "execution_count": 43,
   "id": "85e0068d",
   "metadata": {},
   "outputs": [
    {
     "data": {
      "text/html": [
       "<div>\n",
       "<style scoped>\n",
       "    .dataframe tbody tr th:only-of-type {\n",
       "        vertical-align: middle;\n",
       "    }\n",
       "\n",
       "    .dataframe tbody tr th {\n",
       "        vertical-align: top;\n",
       "    }\n",
       "\n",
       "    .dataframe thead th {\n",
       "        text-align: right;\n",
       "    }\n",
       "</style>\n",
       "<table border=\"1\" class=\"dataframe\">\n",
       "  <thead>\n",
       "    <tr style=\"text-align: right;\">\n",
       "      <th></th>\n",
       "      <th>Sl.NO.</th>\n",
       "      <th>PLAYER NAME</th>\n",
       "      <th>AGE</th>\n",
       "      <th>COUNTRY</th>\n",
       "      <th>TEAM</th>\n",
       "      <th>PLAYING ROLE</th>\n",
       "      <th>T-RUNS</th>\n",
       "      <th>T-WKTS</th>\n",
       "      <th>ODI-RUNS-S</th>\n",
       "      <th>ODI-SR-B</th>\n",
       "      <th>...</th>\n",
       "      <th>SR-B</th>\n",
       "      <th>SIXERS</th>\n",
       "      <th>RUNS-C</th>\n",
       "      <th>WKTS</th>\n",
       "      <th>AVE-BL</th>\n",
       "      <th>ECON</th>\n",
       "      <th>SR-BL</th>\n",
       "      <th>AUCTION YEAR</th>\n",
       "      <th>BASE PRICE</th>\n",
       "      <th>SOLD PRICE</th>\n",
       "    </tr>\n",
       "  </thead>\n",
       "  <tbody>\n",
       "    <tr>\n",
       "      <th>23</th>\n",
       "      <td>24.0</td>\n",
       "      <td>Flintoff, A</td>\n",
       "      <td>2.0</td>\n",
       "      <td>ENG</td>\n",
       "      <td>CSK</td>\n",
       "      <td>Allrounder</td>\n",
       "      <td>3845.0</td>\n",
       "      <td>226.0</td>\n",
       "      <td>3394.0</td>\n",
       "      <td>88.82</td>\n",
       "      <td>...</td>\n",
       "      <td>116.98</td>\n",
       "      <td>2.0</td>\n",
       "      <td>105.0</td>\n",
       "      <td>2.0</td>\n",
       "      <td>52.50</td>\n",
       "      <td>9.55</td>\n",
       "      <td>33.00</td>\n",
       "      <td>2009.0</td>\n",
       "      <td>950000.0</td>\n",
       "      <td>1550000.0</td>\n",
       "    </tr>\n",
       "    <tr>\n",
       "      <th>108</th>\n",
       "      <td>109.0</td>\n",
       "      <td>Symonds, A</td>\n",
       "      <td>3.0</td>\n",
       "      <td>AUS</td>\n",
       "      <td>DC</td>\n",
       "      <td>Allrounder</td>\n",
       "      <td>1462.0</td>\n",
       "      <td>24.0</td>\n",
       "      <td>5088.0</td>\n",
       "      <td>92.44</td>\n",
       "      <td>...</td>\n",
       "      <td>129.87</td>\n",
       "      <td>41.0</td>\n",
       "      <td>674.0</td>\n",
       "      <td>20.0</td>\n",
       "      <td>33.70</td>\n",
       "      <td>7.70</td>\n",
       "      <td>26.35</td>\n",
       "      <td>2008.0</td>\n",
       "      <td>250000.0</td>\n",
       "      <td>1350000.0</td>\n",
       "    </tr>\n",
       "    <tr>\n",
       "      <th>41</th>\n",
       "      <td>42.0</td>\n",
       "      <td>Jayasuriya, ST</td>\n",
       "      <td>3.0</td>\n",
       "      <td>SL</td>\n",
       "      <td>MI</td>\n",
       "      <td>Allrounder</td>\n",
       "      <td>6973.0</td>\n",
       "      <td>98.0</td>\n",
       "      <td>13430.0</td>\n",
       "      <td>91.21</td>\n",
       "      <td>...</td>\n",
       "      <td>144.36</td>\n",
       "      <td>39.0</td>\n",
       "      <td>390.0</td>\n",
       "      <td>13.0</td>\n",
       "      <td>30.00</td>\n",
       "      <td>7.96</td>\n",
       "      <td>22.62</td>\n",
       "      <td>2008.0</td>\n",
       "      <td>250000.0</td>\n",
       "      <td>975000.0</td>\n",
       "    </tr>\n",
       "    <tr>\n",
       "      <th>59</th>\n",
       "      <td>60.0</td>\n",
       "      <td>Mathews, AD</td>\n",
       "      <td>1.0</td>\n",
       "      <td>SL</td>\n",
       "      <td>KKR</td>\n",
       "      <td>Allrounder</td>\n",
       "      <td>1219.0</td>\n",
       "      <td>7.0</td>\n",
       "      <td>1447.0</td>\n",
       "      <td>82.59</td>\n",
       "      <td>...</td>\n",
       "      <td>123.28</td>\n",
       "      <td>12.0</td>\n",
       "      <td>537.0</td>\n",
       "      <td>15.0</td>\n",
       "      <td>35.80</td>\n",
       "      <td>8.20</td>\n",
       "      <td>26.33</td>\n",
       "      <td>2011.0</td>\n",
       "      <td>300000.0</td>\n",
       "      <td>950000.0</td>\n",
       "    </tr>\n",
       "    <tr>\n",
       "      <th>39</th>\n",
       "      <td>40.0</td>\n",
       "      <td>Jadeja, RA</td>\n",
       "      <td>1.0</td>\n",
       "      <td>IND</td>\n",
       "      <td>RR</td>\n",
       "      <td>Allrounder</td>\n",
       "      <td>0.0</td>\n",
       "      <td>0.0</td>\n",
       "      <td>860.0</td>\n",
       "      <td>78.61</td>\n",
       "      <td>...</td>\n",
       "      <td>120.86</td>\n",
       "      <td>35.0</td>\n",
       "      <td>750.0</td>\n",
       "      <td>26.0</td>\n",
       "      <td>28.85</td>\n",
       "      <td>7.33</td>\n",
       "      <td>23.65</td>\n",
       "      <td>2011.0</td>\n",
       "      <td>100000.0</td>\n",
       "      <td>950000.0</td>\n",
       "    </tr>\n",
       "  </tbody>\n",
       "</table>\n",
       "<p>5 rows × 26 columns</p>\n",
       "</div>"
      ],
      "text/plain": [
       "     Sl.NO.     PLAYER NAME  AGE COUNTRY TEAM PLAYING ROLE  T-RUNS  T-WKTS  \\\n",
       "23     24.0     Flintoff, A  2.0     ENG  CSK   Allrounder  3845.0   226.0   \n",
       "108   109.0      Symonds, A  3.0     AUS   DC   Allrounder  1462.0    24.0   \n",
       "41     42.0  Jayasuriya, ST  3.0      SL   MI   Allrounder  6973.0    98.0   \n",
       "59     60.0     Mathews, AD  1.0      SL  KKR   Allrounder  1219.0     7.0   \n",
       "39     40.0      Jadeja, RA  1.0     IND   RR   Allrounder     0.0     0.0   \n",
       "\n",
       "     ODI-RUNS-S  ODI-SR-B  ...    SR-B  SIXERS  RUNS-C  WKTS  AVE-BL  ECON  \\\n",
       "23       3394.0     88.82  ...  116.98     2.0   105.0   2.0   52.50  9.55   \n",
       "108      5088.0     92.44  ...  129.87    41.0   674.0  20.0   33.70  7.70   \n",
       "41      13430.0     91.21  ...  144.36    39.0   390.0  13.0   30.00  7.96   \n",
       "59       1447.0     82.59  ...  123.28    12.0   537.0  15.0   35.80  8.20   \n",
       "39        860.0     78.61  ...  120.86    35.0   750.0  26.0   28.85  7.33   \n",
       "\n",
       "     SR-BL  AUCTION YEAR  BASE PRICE  SOLD PRICE  \n",
       "23   33.00        2009.0    950000.0   1550000.0  \n",
       "108  26.35        2008.0    250000.0   1350000.0  \n",
       "41   22.62        2008.0    250000.0    975000.0  \n",
       "59   26.33        2011.0    300000.0    950000.0  \n",
       "39   23.65        2011.0    100000.0    950000.0  \n",
       "\n",
       "[5 rows x 26 columns]"
      ]
     },
     "execution_count": 43,
     "metadata": {},
     "output_type": "execute_result"
    }
   ],
   "source": [
    "df_All.sort_values(\"SOLD PRICE\", ascending=False).head(5)"
   ]
  },
  {
   "cell_type": "code",
   "execution_count": 44,
   "id": "d6a448ee",
   "metadata": {},
   "outputs": [
    {
     "data": {
      "text/plain": [
       "<seaborn.axisgrid.FacetGrid at 0x18e912c6e50>"
      ]
     },
     "execution_count": 44,
     "metadata": {},
     "output_type": "execute_result"
    },
    {
     "data": {
      "image/png": "[encoded data removed]",
      "text/plain": [
       "<Figure size 402.375x360 with 1 Axes>"
      ]
     },
     "metadata": {
      "needs_background": "light"
     },
     "output_type": "display_data"
    }
   ],
   "source": [
    "sns.displot(df_ipl, x=\"BASE PRICE\", hue=\"AGE\", multiple=\"stack\", bins=10)"
   ]
  },
  {
   "cell_type": "code",
   "execution_count": 45,
   "id": "20acce07",
   "metadata": {},
   "outputs": [
    {
     "name": "stdout",
     "output_type": "stream",
     "text": [
      "Minimum Base Price:  20000\n",
      "Maximum Base Price:  1350000\n",
      "Minimum Sold Price:  20000\n",
      "Maximum Sold Price:  1800000\n"
     ]
    }
   ],
   "source": [
    "print(\"Minimum Base Price: \",df_ipl[\"BASE PRICE\"].min())\n",
    "print(\"Maximum Base Price: \",df_ipl[\"BASE PRICE\"].max())\n",
    "print(\"Minimum Sold Price: \",df_ipl[\"SOLD PRICE\"].min())\n",
    "print(\"Maximum Sold Price: \",df_ipl[\"SOLD PRICE\"].max())"
   ]
  },
  {
   "cell_type": "code",
   "execution_count": null,
   "id": "b1d9319f",
   "metadata": {},
   "outputs": [],
   "source": []
  },
  {
   "cell_type": "code",
   "execution_count": 100,
   "id": "f69714d0",
   "metadata": {},
   "outputs": [
    {
     "name": "stdout",
     "output_type": "stream",
     "text": [
      "-X--X--X--X--X--X--X--X--X--X--X--X--X--X--X--X--X--X--X--X--X--X--X--X--X--X--X--X--X--X--X--X--X--X--X--X--X--X--X--X--X-\n"
     ]
    },
    {
     "data": {
      "image/png": "[encoded data removed]",
      "text/plain": [
       "<Figure size 1527.88x360 with 4 Axes>"
      ]
     },
     "metadata": {
      "needs_background": "light"
     },
     "output_type": "display_data"
    },
    {
     "name": "stdout",
     "output_type": "stream",
     "text": [
      "-X--X--X--X--X--X--X--X--X--X--X--X--X--X--X--X--X--X--X--X--X--X--X--X--X--X--X--X--X--X--X--X--X--X--X--X--X--X--X--X--X-\n",
      "\n",
      "\t\t\t\t\t\tBase Prices:\n",
      "\n",
      "Minimum Base Price: 20000\t\t\t\t\t\tMaximum Base Price: 1350000\n",
      "Minimum Base Price of Allrounder: 20000.0\t\t\t\tMaximum Base Price of Allrounder: 950000.0\n",
      "Minimum Base Price of Batsman: 20000.0\t\t\t\t\tMaximum Base Price of Batsman: 1350000.0\n",
      "Minimum Base Price of Bowler: 20000.0\t\t\t\t\tMaximum Base Price of Bowler: 450000.0\n",
      "Minimum Base Price of Wicket Keeper: 100000.0\t\t\t\tMaximum Base Price of Wicket Keeper: 400000.0\n",
      "-X--X--X--X--X--X--X--X--X--X--X--X--X--X--X--X--X--X--X--X--X--X--X--X--X--X--X--X--X--X--X--X--X--X--X--X--X--X--X--X--X-\n"
     ]
    },
    {
     "data": {
      "image/png": "[encoded data removed]",
      "text/plain": [
       "<Figure size 1527.88x360 with 4 Axes>"
      ]
     },
     "metadata": {
      "needs_background": "light"
     },
     "output_type": "display_data"
    },
    {
     "name": "stdout",
     "output_type": "stream",
     "text": [
      "-X--X--X--X--X--X--X--X--X--X--X--X--X--X--X--X--X--X--X--X--X--X--X--X--X--X--X--X--X--X--X--X--X--X--X--X--X--X--X--X--X-\n",
      "\n",
      "\t\t\t\t\t\tSold Prices:\n",
      "\n",
      "Minimum Sold Price: 20000\t\t\t\t\t\tMaximum Sold Price: 1800000\n",
      "Minimum Sold Price of Allrounder: 20000.0\t\t\t\tMaximum Sold Price of Allrounder: 1550000.0\n",
      "Minimum Sold Price of Batsman: 50000.0\t\t\t\t\tMaximum Sold Price of Batsman: 1800000.0\n",
      "Minimum Sold Price of Bowler: 24000.0\t\t\t\t\tMaximum Sold Price of Bowler: 950000.0\n",
      "Minimum Sold Price of Wicket Keeper: 100000.0\t\t\t\tMaximum Sold Price of Wicket Keeper: 1500000.0\n",
      "-X--X--X--X--X--X--X--X--X--X--X--X--X--X--X--X--X--X--X--X--X--X--X--X--X--X--X--X--X--X--X--X--X--X--X--X--X--X--X--X--X-\n"
     ]
    }
   ],
   "source": [
    "print(\"-X--X--X--X--X--X--X--X--X--X--X--X--X--X--X--X--X--X--X--X--X--X--X--X--X--X--X--X--X--X--X--X--X--X--X--X--X--X--X--X--X-\")\n",
    "sns.displot(df_ipl, x=\"BASE PRICE\", hue=\"PLAYING ROLE\", col=\"PLAYING ROLE\")\n",
    "plt.show()\n",
    "print(\"-X--X--X--X--X--X--X--X--X--X--X--X--X--X--X--X--X--X--X--X--X--X--X--X--X--X--X--X--X--X--X--X--X--X--X--X--X--X--X--X--X-\")\n",
    "print(\"\\n\\t\\t\\t\\t\\t\\tBase Prices:\\n\")\n",
    "print(\"Minimum Base Price: {}\\t\\t\\t\\t\\t\\tMaximum Base Price: {}\".format(df_ipl[\"BASE PRICE\"].min(), df_ipl[\"BASE PRICE\"].max()))\n",
    "print(\"Minimum Base Price of Allrounder: {}\\t\\t\\t\\tMaximum Base Price of Allrounder: {}\".format(df_All[\"BASE PRICE\"].min(), df_All[\"BASE PRICE\"].max()))\n",
    "print(\"Minimum Base Price of Batsman: {}\\t\\t\\t\\t\\tMaximum Base Price of Batsman: {}\".format(df_Bat[\"BASE PRICE\"].min(),df_Bat[\"BASE PRICE\"].max()))\n",
    "print(\"Minimum Base Price of Bowler: {}\\t\\t\\t\\t\\tMaximum Base Price of Bowler: {}\".format(df_Bow[\"BASE PRICE\"].min(),df_Bow[\"BASE PRICE\"].max()))\n",
    "print(\"Minimum Base Price of Wicket Keeper: {}\\t\\t\\t\\tMaximum Base Price of Wicket Keeper: {}\".format(df_Wkt[\"BASE PRICE\"].min(),df_Wkt[\"BASE PRICE\"].max()))\n",
    "print(\"-X--X--X--X--X--X--X--X--X--X--X--X--X--X--X--X--X--X--X--X--X--X--X--X--X--X--X--X--X--X--X--X--X--X--X--X--X--X--X--X--X-\")\n",
    "sns.displot(df_ipl, x=\"SOLD PRICE\", hue=\"PLAYING ROLE\", col=\"PLAYING ROLE\")\n",
    "plt.show()\n",
    "print(\"-X--X--X--X--X--X--X--X--X--X--X--X--X--X--X--X--X--X--X--X--X--X--X--X--X--X--X--X--X--X--X--X--X--X--X--X--X--X--X--X--X-\")\n",
    "print(\"\\n\\t\\t\\t\\t\\t\\tSold Prices:\\n\")\n",
    "print(\"Minimum Sold Price: {}\\t\\t\\t\\t\\t\\tMaximum Sold Price: {}\".format(df_ipl[\"SOLD PRICE\"].min(), df_ipl[\"SOLD PRICE\"].max()))\n",
    "print(\"Minimum Sold Price of Allrounder: {}\\t\\t\\t\\tMaximum Sold Price of Allrounder: {}\".format(df_All[\"SOLD PRICE\"].min(), df_All[\"SOLD PRICE\"].max()))\n",
    "print(\"Minimum Sold Price of Batsman: {}\\t\\t\\t\\t\\tMaximum Sold Price of Batsman: {}\".format(df_Bat[\"SOLD PRICE\"].min(),df_Bat[\"SOLD PRICE\"].max()))\n",
    "print(\"Minimum Sold Price of Bowler: {}\\t\\t\\t\\t\\tMaximum Sold Price of Bowler: {}\".format(df_Bow[\"SOLD PRICE\"].min(),df_Bow[\"SOLD PRICE\"].max()))\n",
    "print(\"Minimum Sold Price of Wicket Keeper: {}\\t\\t\\t\\tMaximum Sold Price of Wicket Keeper: {}\".format(df_Wkt[\"SOLD PRICE\"].min(),df_Wkt[\"SOLD PRICE\"].max()))\n",
    "print(\"-X--X--X--X--X--X--X--X--X--X--X--X--X--X--X--X--X--X--X--X--X--X--X--X--X--X--X--X--X--X--X--X--X--X--X--X--X--X--X--X--X-\")"
   ]
  },
  {
   "cell_type": "markdown",
   "id": "32977db1",
   "metadata": {},
   "source": [
    "## The above Graphs represents the various base price set for players with different roles and their sold price"
   ]
  },
  {
   "cell_type": "code",
   "execution_count": 112,
   "id": "af04b5c6",
   "metadata": {},
   "outputs": [
    {
     "data": {
      "text/plain": [
       "<seaborn.axisgrid.FacetGrid at 0x18e9da0b760>"
      ]
     },
     "execution_count": 112,
     "metadata": {},
     "output_type": "execute_result"
    },
    {
     "data": {
      "image/png": "[encoded data removed]",
      "text/plain": [
       "<Figure size 360x360 with 1 Axes>"
      ]
     },
     "metadata": {
      "needs_background": "light"
     },
     "output_type": "display_data"
    }
   ],
   "source": [
    "sns.displot(df_ipl, x=\"AGE\",y=\"SOLD PRICE\")"
   ]
  },
  {
   "cell_type": "code",
   "execution_count": 116,
   "id": "2af4f66e",
   "metadata": {},
   "outputs": [
    {
     "data": {
      "text/plain": [
       "{'whiskers': [<matplotlib.lines.Line2D at 0x18e9ac87d30>,\n",
       "  <matplotlib.lines.Line2D at 0x18e9ac95040>],\n",
       " 'caps': [<matplotlib.lines.Line2D at 0x18e9ac953d0>,\n",
       "  <matplotlib.lines.Line2D at 0x18e9ac955e0>],\n",
       " 'boxes': [<matplotlib.lines.Line2D at 0x18e9ac87a60>],\n",
       " 'medians': [<matplotlib.lines.Line2D at 0x18e9ac958b0>],\n",
       " 'fliers': [<matplotlib.lines.Line2D at 0x18e9ac95b80>],\n",
       " 'means': []}"
      ]
     },
     "execution_count": 116,
     "metadata": {},
     "output_type": "execute_result"
    },
    {
     "data": {
      "image/png": "[encoded data removed]",
      "text/plain": [
       "<Figure size 432x288 with 1 Axes>"
      ]
     },
     "metadata": {
      "needs_background": "light"
     },
     "output_type": "display_data"
    }
   ],
   "source": [
    "plt.boxplot(x=\"BASE PRICE\", data=df_ipl)"
   ]
  },
  {
   "cell_type": "code",
   "execution_count": null,
   "id": "575f4fbb",
   "metadata": {},
   "outputs": [],
   "source": []
  }
 ],
 "metadata": {
  "kernelspec": {
   "display_name": "Python 3 (ipykernel)",
   "language": "python",
   "name": "python3"
  },
  "language_info": {
   "codemirror_mode": {
    "name": "ipython",
    "version": 3
   },
   "file_extension": ".py",
   "mimetype": "text/x-python",
   "name": "python",
   "nbconvert_exporter": "python",
   "pygments_lexer": "ipython3",
   "version": "3.9.12"
  }
 },
 "nbformat": 4,
 "nbformat_minor": 5
}
