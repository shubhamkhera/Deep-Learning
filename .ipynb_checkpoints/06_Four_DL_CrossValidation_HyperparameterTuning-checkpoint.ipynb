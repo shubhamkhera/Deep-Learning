{
 "cells": [
  {
   "cell_type": "markdown",
   "id": "d002ef11",
   "metadata": {},
   "source": [
    "# Day 4: 4.2\n",
    "\n",
    "## XXXXXXXXXXXXXXXXXXXXXXXXXXXXXXXXXXXXXXXXXXXXXXXXXXXXXXXXXXX\n",
    "\n",
    "### Cross Validation: \n",
    "**Its a Statistical Method to estimate the performance of ML models over the sample data.**\n",
    "\n",
    "1. Get the Minimum Score\n",
    "2. Get the Maximum Score Possible\n",
    "3. To get the optimal sample that can help me achieve the optimal ML model"
   ]
  },
  {
   "cell_type": "code",
   "execution_count": 1,
   "id": "c55ecba6",
   "metadata": {},
   "outputs": [],
   "source": [
    "import numpy as np\n",
    "import pandas as pd\n",
    "import matplotlib.pyplot as plt\n",
    "import tensorflow as tf\n",
    "\n",
    "import warnings\n",
    "warnings.filterwarnings('ignore')"
   ]
  },
  {
   "cell_type": "code",
   "execution_count": 2,
   "id": "905a4afd",
   "metadata": {},
   "outputs": [],
   "source": [
    "import tensorflow_addons as tfa"
   ]
  },
  {
   "cell_type": "code",
   "execution_count": 3,
   "id": "ed7c3168",
   "metadata": {},
   "outputs": [],
   "source": [
    "data = pd.read_csv('03_Social_Network_Ads.csv')"
   ]
  },
  {
   "cell_type": "code",
   "execution_count": 4,
   "id": "beb4eff6",
   "metadata": {},
   "outputs": [],
   "source": [
    "features = data.iloc[:,[2,3]].values\n",
    "label = data.iloc[:,4].values"
   ]
  },
  {
   "cell_type": "code",
   "execution_count": 5,
   "id": "fbf0122c",
   "metadata": {},
   "outputs": [],
   "source": [
    "from sklearn.linear_model import LogisticRegression\n",
    "from sklearn.svm import SVC\n",
    "modelLogistic = LogisticRegression()\n",
    "modelSCV = SVC()"
   ]
  },
  {
   "cell_type": "markdown",
   "id": "c3506ee0",
   "metadata": {},
   "source": [
    "### Creoos Validation Score (cross_val_score)\n",
    "\n",
    "**Here we are using CV to verify the maximum score so that we can negotitae with the client for the Significance Level**"
   ]
  },
  {
   "cell_type": "code",
   "execution_count": 6,
   "id": "44e519eb",
   "metadata": {},
   "outputs": [
    {
     "data": {
      "text/plain": [
       "array([0.7  , 0.925, 0.875, 0.85 , 0.775, 0.725, 0.825, 0.775, 0.625,\n",
       "       0.65 ])"
      ]
     },
     "execution_count": 6,
     "metadata": {},
     "output_type": "execute_result"
    }
   ],
   "source": [
    "from sklearn.model_selection import cross_val_score\n",
    "\n",
    "scores = cross_val_score(modelSCV, \n",
    "                         features, \n",
    "                         label, \n",
    "                         cv =10)\n",
    "scores"
   ]
  },
  {
   "cell_type": "code",
   "execution_count": 7,
   "id": "d7a90be3",
   "metadata": {},
   "outputs": [
    {
     "name": "stdout",
     "output_type": "stream",
     "text": [
      "Test Score: 0.9\n",
      "Train Score: 0.7611111111111111 \n",
      "Sample Split: 8\n"
     ]
    }
   ],
   "source": [
    "# To get the optimal sample that gives best score for SVC\n",
    "\n",
    "# Step1: Initializa the Algorithm\n",
    "from sklearn.svm import SVC\n",
    "modelAlgo = SVC()\n",
    "\n",
    "# Step2: Initializa KFold Cross Validation\n",
    "\n",
    "from sklearn.model_selection import KFold\n",
    "\n",
    "kfold = KFold(n_splits=10, # cv Value that is used in cross_validation\n",
    "              shuffle=True, \n",
    "              random_state=1) # To ensure persistance of data and model relationship\n",
    "\n",
    "# Step3: Initialize a for loop to identify which sample gives the best score\n",
    "\n",
    "counter = 0\n",
    "for train, test in kfold.split(features):\n",
    "    \n",
    "    counter += 1\n",
    "    \n",
    "    # Extract the training set and testing set\n",
    "    X_train, X_test = features[train], features[test]\n",
    "    y_train, y_test = label[train], label[test]\n",
    "    \n",
    "    # Fit model\n",
    "    model = SVC()\n",
    "    model.fit(X_train, y_train)\n",
    "    \n",
    "    if model.score(X_test, y_test) >= 0.90:\n",
    "        print(f\"Test Score: {model.score(X_test,y_test)}\\nTrain Score: {model.score(X_train, y_train)} \\nSample Split: {counter}\")\n",
    "    \n",
    "    "
   ]
  },
  {
   "cell_type": "code",
   "execution_count": null,
   "id": "ad510cb9",
   "metadata": {},
   "outputs": [],
   "source": []
  },
  {
   "cell_type": "code",
   "execution_count": null,
   "id": "d73d9644",
   "metadata": {},
   "outputs": [],
   "source": []
  },
  {
   "cell_type": "code",
   "execution_count": null,
   "id": "94e1b710",
   "metadata": {},
   "outputs": [],
   "source": []
  },
  {
   "cell_type": "code",
   "execution_count": null,
   "id": "685181e8",
   "metadata": {},
   "outputs": [],
   "source": []
  },
  {
   "cell_type": "code",
   "execution_count": null,
   "id": "badec122",
   "metadata": {},
   "outputs": [],
   "source": []
  },
  {
   "cell_type": "code",
   "execution_count": null,
   "id": "3380a76e",
   "metadata": {},
   "outputs": [],
   "source": []
  },
  {
   "cell_type": "code",
   "execution_count": null,
   "id": "b711221e",
   "metadata": {},
   "outputs": [],
   "source": []
  },
  {
   "cell_type": "code",
   "execution_count": null,
   "id": "4a4d494e",
   "metadata": {},
   "outputs": [],
   "source": []
  }
 ],
 "metadata": {
  "kernelspec": {
   "display_name": "Python 3 (ipykernel)",
   "language": "python",
   "name": "python3"
  },
  "language_info": {
   "codemirror_mode": {
    "name": "ipython",
    "version": 3
   },
   "file_extension": ".py",
   "mimetype": "text/x-python",
   "name": "python",
   "nbconvert_exporter": "python",
   "pygments_lexer": "ipython3",
   "version": "3.9.12"
  }
 },
 "nbformat": 4,
 "nbformat_minor": 5
}
