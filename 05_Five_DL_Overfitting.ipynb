{
 "cells": [
  {
   "cell_type": "markdown",
   "id": "14b881ce",
   "metadata": {},
   "source": [
    "# Day 5:\n",
    "\n",
    "1. Dealing with Overfitting"
   ]
  },
  {
   "cell_type": "markdown",
   "id": "607b8d83",
   "metadata": {},
   "source": [
    "- Neural Network tends to OVERFIT !!!!\n",
    "\n",
    "- How to Deal with Overfitting?\n",
    "    - Dealing with overfitting is reactive activity. There is no Proactive stratergy available to work with Overfitting.\n",
    "        - Try Changing the weight and Bias Initialization Algorithm/ Formula\n",
    "            - Dense\n",
    "                - tf.keras.layers.Dense( \n",
    "                - kernal_initializer = 'glorot_uniform'     --------> This is used to initialize weights in Epoch1\n",
    "                - bias_initializer= 'zeros')       --------> This is used to initialize bias in Epoch1\n",
    "            \n",
    "            - Formulas available for weights and bias (initializers)\n",
    "       - TRry changing the Backpropagation Algorithm"
   ]
  },
  {
   "cell_type": "code",
   "execution_count": null,
   "id": "a96088be",
   "metadata": {},
   "outputs": [],
   "source": []
  },
  {
   "cell_type": "code",
   "execution_count": null,
   "id": "36e48f45",
   "metadata": {},
   "outputs": [],
   "source": []
  },
  {
   "cell_type": "code",
   "execution_count": null,
   "id": "03132850",
   "metadata": {},
   "outputs": [],
   "source": []
  },
  {
   "cell_type": "code",
   "execution_count": null,
   "id": "5f3158f0",
   "metadata": {},
   "outputs": [],
   "source": []
  }
 ],
 "metadata": {
  "kernelspec": {
   "display_name": "Python 3 (ipykernel)",
   "language": "python",
   "name": "python3"
  },
  "language_info": {
   "codemirror_mode": {
    "name": "ipython",
    "version": 3
   },
   "file_extension": ".py",
   "mimetype": "text/x-python",
   "name": "python",
   "nbconvert_exporter": "python",
   "pygments_lexer": "ipython3",
   "version": "3.9.12"
  }
 },
 "nbformat": 4,
 "nbformat_minor": 5
}
